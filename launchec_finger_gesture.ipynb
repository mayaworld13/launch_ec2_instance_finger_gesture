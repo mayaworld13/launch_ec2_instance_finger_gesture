{
 "cells": [
  {
   "cell_type": "code",
   "execution_count": 1,
   "id": "072413d6",
   "metadata": {},
   "outputs": [],
   "source": [
    "import boto3\n",
    "myec2 = boto3.resource(\"ec2\"  )\n",
    "\n",
    "def launchOS():\n",
    "    response = myec2.create_instances( \n",
    "        ImageId=\"ami-0da59f1af71ea4ad2\",  \n",
    "        InstanceType=\"t2.micro\",\n",
    "        MaxCount=1,\n",
    "        MinCount=1\n",
    "    )"
   ]
  },
  {
   "cell_type": "code",
   "execution_count": 2,
   "id": "b721fe97",
   "metadata": {},
   "outputs": [],
   "source": [
    "import  cv2\n",
    "cap = cv2.VideoCapture( 0 )"
   ]
  },
  {
   "cell_type": "code",
   "execution_count": 3,
   "id": "48f9e752",
   "metadata": {},
   "outputs": [],
   "source": [
    "from cvzone.HandTrackingModule import HandDetector\n",
    "detector = HandDetector()"
   ]
  },
  {
   "cell_type": "code",
   "execution_count": 4,
   "id": "925b643e",
   "metadata": {},
   "outputs": [
    {
     "name": "stdout",
     "output_type": "stream",
     "text": [
      "index and middle finger up\n",
      "idk\n",
      "idk\n",
      "idk\n",
      "idk\n",
      "idk\n",
      "idk\n",
      "idk\n",
      "idk\n",
      "idk\n",
      "all up\n",
      "idk\n",
      "idk\n",
      "idk\n",
      "idk\n",
      "idk\n",
      "idk\n",
      "idk\n",
      "idk\n",
      "idk\n",
      "idk\n",
      "idk\n",
      "idk\n",
      "idk\n",
      "idk\n",
      "idk\n",
      "idk\n",
      "idk\n",
      "idk\n",
      "idk\n",
      "idk\n",
      "idk\n",
      "idk\n",
      "idk\n",
      "idk\n",
      "all up\n"
     ]
    }
   ],
   "source": [
    "while True:\n",
    "    status , photo = cap.read()\n",
    "    cv2.imshow(\"my photo\" , photo)\n",
    "    if cv2.waitKey(10) ==  13:\n",
    "        break\n",
    "    \n",
    "    handphoto = detector.findHands(photo , draw=False)\n",
    "    \n",
    "    if handphoto:\n",
    "        lmlist = handphoto[0]\n",
    "        fingerstatus = detector.fingersUp(lmlist)\n",
    "\n",
    "        if fingerstatus == [1,1,1,1,1]:\n",
    "            print(\"all up\")\n",
    "            launchOS()\n",
    "            launchOS()\n",
    "            launchOS()\n",
    "            launchOS()\n",
    "            launchOS()\n",
    "    \n",
    "        elif fingerstatus == [ 0 ,1 ,0 , 0, 0]:\n",
    "            print(\"index finger up\")\n",
    "            launchOS()\n",
    "    \n",
    "        elif fingerstatus == [ 0 , 1, 1, 0 , 0 ]:\n",
    "            print(\"index and middle finger up\")\n",
    "            launchOS()\n",
    "            launchOS()\n",
    "    \n",
    "        else:\n",
    "            print(\"idk\")\n",
    "\n",
    "        \n",
    "cv2.destroyAllWindows()\n",
    "\n",
    "\n",
    "cap.release()"
   ]
  },
  {
   "cell_type": "code",
   "execution_count": null,
   "id": "1414ca4b",
   "metadata": {},
   "outputs": [],
   "source": []
  }
 ],
 "metadata": {
  "kernelspec": {
   "display_name": "Python 3",
   "language": "python",
   "name": "python3"
  },
  "language_info": {
   "codemirror_mode": {
    "name": "ipython",
    "version": 3
   },
   "file_extension": ".py",
   "mimetype": "text/x-python",
   "name": "python",
   "nbconvert_exporter": "python",
   "pygments_lexer": "ipython3",
   "version": "3.10.9"
  }
 },
 "nbformat": 4,
 "nbformat_minor": 5
}
